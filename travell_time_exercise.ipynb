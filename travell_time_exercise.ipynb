{
 "cells": [
  {
   "attachments": {},
   "cell_type": "markdown",
   "metadata": {},
   "source": [
    "ФИО:           Суббота Вадим Олегович\n",
    "\n",
    "Город:         Новороссийск\n",
    "\n",
    "Школа:         ЧОУ Гимназия N1\n",
    "\n",
    "Класс:         10 \"А\""
   ]
  },
  {
   "attachments": {},
   "cell_type": "markdown",
   "metadata": {},
   "source": [
    "В файле travel_time_data.csv содаржатся данные о времени поездки (в часах) в зависимости от расстояния до пункта назначения (в километрах). Нобходимо решить задачу линейной регрессии: создать и обучить модель линейной регрессии, которая будет способна прогнозировать время поездки по известному расстоянию до пункта назначения.\n",
    "1. Загрузите данные из файла travel_time_data.csv\n",
    "2. Визуализируйте данные.\n",
    "3. Произведите разбиение данных на тренировочную и тестовую выборки.\n",
    "4. Преобразуйте данные в массивы NumPy.\n",
    "5. Воспользуйтесь классом `LinearRegression` для создания модели.\n",
    "6. Обучите модель на тренировочных данных (используя метод `fit()`).\n",
    "7. Спрогнозируйте время поездки для тренировочных и тестовых данных.\n",
    "8. Визуализируйте на одном изображении решение линейной регрессии в виде прямой, соединяющей спрогнозированные значения и точки тестовых данных.\n",
    "9. Оцените корректность работы модели при помощи функции `mean_squared_error()`.\n",
    "10. Выведите на печать значения параметров модели.\n",
    "11. Загрузить данные расстояний из файла travel_time_test.csv\n",
    "12. Получить прогнозы для этих данных при помощи обученной модели.\n",
    "13. Сохранить результаты в файл в формате csv.\n",
    "14. Экспортировать код в формате html.\n",
    "\n",
    "Прислать три файла:\n",
    "- Файл с кодом в формате *.ipynb\n",
    "- html формат кода\n",
    "- Спрогнозированные результаты в формате csv\n",
    "\n",
    "Имя каждого файла должно начинаться с фамилии и инициалов."
   ]
  },
  {
   "cell_type": "code",
   "execution_count": 16,
   "metadata": {},
   "outputs": [
    {
     "data": {
      "image/png": "[encoded data removed]",
      "text/plain": [
       "<Figure size 640x480 with 1 Axes>"
      ]
     },
     "metadata": {},
     "output_type": "display_data"
    }
   ],
   "source": [
    "import pandas as pd\n",
    "import matplotlib.pyplot as plt\n",
    "import numpy as np\n",
    "\n",
    "trains_travel_data = pd.read_csv(\"travel_time_train_data.csv\")\n",
    "\n",
    "x = trains_travel_data[' travel_time']\n",
    "y = trains_travel_data[\"distance\"]\n",
    "plt.scatter(x, y)\n",
    "plt.ylim(0, 2000)\n",
    "plt.xlabel(\"Time travelled\")\n",
    "plt.ylabel(\"Distance travelled\")\n",
    "plt.show()\n",
    "\n",
    "\n"
   ]
  },
  {
   "cell_type": "code",
   "execution_count": 17,
   "metadata": {},
   "outputs": [
    {
     "data": {
      "text/html": [
       "<div>\n",
       "<style scoped>\n",
       "    .dataframe tbody tr th:only-of-type {\n",
       "        vertical-align: middle;\n",
       "    }\n",
       "\n",
       "    .dataframe tbody tr th {\n",
       "        vertical-align: top;\n",
       "    }\n",
       "\n",
       "    .dataframe thead th {\n",
       "        text-align: right;\n",
       "    }\n",
       "</style>\n",
       "<table border=\"1\" class=\"dataframe\">\n",
       "  <thead>\n",
       "    <tr style=\"text-align: right;\">\n",
       "      <th></th>\n",
       "      <th>distance</th>\n",
       "      <th>travel_time</th>\n",
       "    </tr>\n",
       "  </thead>\n",
       "  <tbody>\n",
       "    <tr>\n",
       "      <th>100</th>\n",
       "      <td>1704.13</td>\n",
       "      <td>19.59</td>\n",
       "    </tr>\n",
       "    <tr>\n",
       "      <th>10</th>\n",
       "      <td>215.71</td>\n",
       "      <td>2.84</td>\n",
       "    </tr>\n",
       "    <tr>\n",
       "      <th>4</th>\n",
       "      <td>103.55</td>\n",
       "      <td>1.45</td>\n",
       "    </tr>\n",
       "    <tr>\n",
       "      <th>81</th>\n",
       "      <td>1386.60</td>\n",
       "      <td>19.25</td>\n",
       "    </tr>\n",
       "    <tr>\n",
       "      <th>97</th>\n",
       "      <td>1658.41</td>\n",
       "      <td>22.79</td>\n",
       "    </tr>\n",
       "    <tr>\n",
       "      <th>65</th>\n",
       "      <td>1117.48</td>\n",
       "      <td>17.03</td>\n",
       "    </tr>\n",
       "    <tr>\n",
       "      <th>30</th>\n",
       "      <td>540.37</td>\n",
       "      <td>6.87</td>\n",
       "    </tr>\n",
       "    <tr>\n",
       "      <th>33</th>\n",
       "      <td>586.73</td>\n",
       "      <td>7.09</td>\n",
       "    </tr>\n",
       "    <tr>\n",
       "      <th>93</th>\n",
       "      <td>1577.06</td>\n",
       "      <td>20.44</td>\n",
       "    </tr>\n",
       "    <tr>\n",
       "      <th>11</th>\n",
       "      <td>224.27</td>\n",
       "      <td>2.95</td>\n",
       "    </tr>\n",
       "    <tr>\n",
       "      <th>47</th>\n",
       "      <td>827.90</td>\n",
       "      <td>12.32</td>\n",
       "    </tr>\n",
       "    <tr>\n",
       "      <th>42</th>\n",
       "      <td>747.45</td>\n",
       "      <td>9.95</td>\n",
       "    </tr>\n",
       "    <tr>\n",
       "      <th>0</th>\n",
       "      <td>64.20</td>\n",
       "      <td>1.00</td>\n",
       "    </tr>\n",
       "    <tr>\n",
       "      <th>78</th>\n",
       "      <td>1336.06</td>\n",
       "      <td>18.08</td>\n",
       "    </tr>\n",
       "    <tr>\n",
       "      <th>18</th>\n",
       "      <td>352.02</td>\n",
       "      <td>4.36</td>\n",
       "    </tr>\n",
       "    <tr>\n",
       "      <th>64</th>\n",
       "      <td>1100.47</td>\n",
       "      <td>15.97</td>\n",
       "    </tr>\n",
       "    <tr>\n",
       "      <th>67</th>\n",
       "      <td>1158.57</td>\n",
       "      <td>17.11</td>\n",
       "    </tr>\n",
       "    <tr>\n",
       "      <th>79</th>\n",
       "      <td>1359.12</td>\n",
       "      <td>14.60</td>\n",
       "    </tr>\n",
       "    <tr>\n",
       "      <th>55</th>\n",
       "      <td>963.75</td>\n",
       "      <td>14.16</td>\n",
       "    </tr>\n",
       "    <tr>\n",
       "      <th>44</th>\n",
       "      <td>778.54</td>\n",
       "      <td>8.93</td>\n",
       "    </tr>\n",
       "    <tr>\n",
       "      <th>12</th>\n",
       "      <td>256.94</td>\n",
       "      <td>3.61</td>\n",
       "    </tr>\n",
       "    <tr>\n",
       "      <th>80</th>\n",
       "      <td>1373.93</td>\n",
       "      <td>18.01</td>\n",
       "    </tr>\n",
       "  </tbody>\n",
       "</table>\n",
       "</div>"
      ],
      "text/plain": [
       "     distance   travel_time\n",
       "100   1704.13         19.59\n",
       "10     215.71          2.84\n",
       "4      103.55          1.45\n",
       "81    1386.60         19.25\n",
       "97    1658.41         22.79\n",
       "65    1117.48         17.03\n",
       "30     540.37          6.87\n",
       "33     586.73          7.09\n",
       "93    1577.06         20.44\n",
       "11     224.27          2.95\n",
       "47     827.90         12.32\n",
       "42     747.45          9.95\n",
       "0       64.20          1.00\n",
       "78    1336.06         18.08\n",
       "18     352.02          4.36\n",
       "64    1100.47         15.97\n",
       "67    1158.57         17.11\n",
       "79    1359.12         14.60\n",
       "55     963.75         14.16\n",
       "44     778.54          8.93\n",
       "12     256.94          3.61\n",
       "80    1373.93         18.01"
      ]
     },
     "execution_count": 17,
     "metadata": {},
     "output_type": "execute_result"
    }
   ],
   "source": [
    "from sklearn.model_selection import train_test_split\n",
    "\n",
    "train_data, test_data = train_test_split(trains_travel_data, test_size=0.2, random_state=42)\n",
    "\n",
    "test_data"
   ]
  },
  {
   "cell_type": "code",
   "execution_count": 18,
   "metadata": {},
   "outputs": [],
   "source": [
    "x_train = train_data[' travel_time'].to_numpy()\n",
    "y_train = train_data['distance'].to_numpy()\n",
    "\n",
    "x_test = test_data[' travel_time'].to_numpy()\n",
    "y_test = test_data['distance'].to_numpy()\n",
    "\n",
    "\n",
    "\n",
    "\n"
   ]
  },
  {
   "cell_type": "code",
   "execution_count": 21,
   "metadata": {},
   "outputs": [
    {
     "name": "stdout",
     "output_type": "stream",
     "text": [
      "x_train.shape = (84, 1)\n",
      "x_test.shape = (22, 1)\n"
     ]
    }
   ],
   "source": [
    "x_train = x_train.reshape((84, 1))\n",
    "x_test = x_test.reshape((22, 1))\n",
    "print(f\"{x_train.shape = }\")\n",
    "print(f\"{x_test.shape = }\")"
   ]
  },
  {
   "cell_type": "code",
   "execution_count": 22,
   "metadata": {},
   "outputs": [
    {
     "name": "stdout",
     "output_type": "stream",
     "text": [
      "x_test\ty_test\ty_test_predicted\n",
      "------------------------------\n",
      "[17.03]\t1117.48\t1273\n",
      "[6.87]\t540.37\t528\n",
      "[14.16]\t963.75\t1063\n",
      "[19.59]\t1704.13\t1461\n",
      "[18.01]\t1373.93\t1345\n",
      "[9.95]\t747.45\t754\n",
      "[7.09]\t586.73\t544\n",
      "[4.36]\t352.02\t344\n",
      "[19.25]\t1386.6\t1436\n",
      "[22.79]\t1658.41\t1696\n"
     ]
    }
   ],
   "source": [
    "from sklearn.linear_model import LinearRegression\n",
    "\n",
    "model = LinearRegression()\n",
    "model.fit(x_train, y_train)\n",
    "\n",
    "y_test_predicted = model.predict(x_test)\n",
    "\n",
    "# напечатаем результат в виде таблицы\n",
    "header = f\"x_test\\ty_test\\ty_test_predicted\"\n",
    "print(header, '\\n', '-'*len(header), sep='')\n",
    "for j in range(10):\n",
    "    i = np.random.randint(0, len(y_test))\n",
    "    print(f\"{x_test[i]}\\t{y_test[i]}\\t{int(y_test_predicted[i])}\")"
   ]
  },
  {
   "cell_type": "code",
   "execution_count": 23,
   "metadata": {},
   "outputs": [
    {
     "data": {
      "text/plain": [
       "Text(0, 0.5, 'Distance travelled')"
      ]
     },
     "execution_count": 23,
     "metadata": {},
     "output_type": "execute_result"
    },
    {
     "data": {
      "image/png": "[encoded data removed]",
      "text/plain": [
       "<Figure size 640x480 with 1 Axes>"
      ]
     },
     "metadata": {},
     "output_type": "display_data"
    }
   ],
   "source": [
    "y_train_predicted = model.predict(x_train.reshape(-1, 1))\n",
    "\n",
    "plt.scatter(x_train, y_train, c='grey', s=15)\n",
    "plt.scatter(x_test, y_test, c='green')\n",
    "plt.plot(x_train, y_train_predicted)\n",
    "plt.ylim(0, 2000)\n",
    "\n",
    "plt.xlabel('Time travelled')\n",
    "plt.ylabel('Distance travelled')"
   ]
  },
  {
   "cell_type": "code",
   "execution_count": 26,
   "metadata": {},
   "outputs": [
    {
     "name": "stdout",
     "output_type": "stream",
     "text": [
      "train_Rmse = 84.5836819149624,test_Rmse = 99.90131333841319\n"
     ]
    }
   ],
   "source": [
    "from sklearn.metrics import mean_squared_error as mse \n",
    "train_Rmse = mse(y_train, y_train_predicted, squared=0)\n",
    "test_Rmse = mse(y_test, y_test_predicted, squared=0)\n",
    "print(f\"{train_Rmse = },{test_Rmse = }\")"
   ]
  },
  {
   "cell_type": "code",
   "execution_count": 28,
   "metadata": {},
   "outputs": [
    {
     "data": {
      "text/plain": [
       "array([ 4734.2565618 ,  6448.79990339,  9084.80941402, 11507.32636479,\n",
       "       13153.64012539])"
      ]
     },
     "execution_count": 28,
     "metadata": {},
     "output_type": "execute_result"
    }
   ],
   "source": [
    "times_data = pd.read_csv('travel_time_test.csv')\n",
    "\n",
    "x = times_data.to_numpy()\n",
    "y = model.predict(x)\n",
    "y[:5]"
   ]
  },
  {
   "cell_type": "code",
   "execution_count": 30,
   "metadata": {},
   "outputs": [],
   "source": [
    "np.savetxt(\n",
    "            \"train_travel_distance_prediction.csv\",y,\n",
    "            header= \"train_travel_distance\",\n",
    "            delimiter=\",\",\n",
    "            fmt= \"%.2f\",\n",
    "            comments=\"\"\n",
    "            )"
   ]
  }
 ],
 "metadata": {
  "kernelspec": {
   "display_name": "tf",
   "language": "python",
   "name": "python3"
  },
  "language_info": {
   "codemirror_mode": {
    "name": "ipython",
    "version": 3
   },
   "file_extension": ".py",
   "mimetype": "text/x-python",
   "name": "python",
   "nbconvert_exporter": "python",
   "pygments_lexer": "ipython3",
   "version": "3.10.10"
  },
  "orig_nbformat": 4
 },
 "nbformat": 4,
 "nbformat_minor": 2
}
